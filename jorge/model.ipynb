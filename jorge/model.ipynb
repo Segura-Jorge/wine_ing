{
 "cells": [
  {
   "cell_type": "code",
   "execution_count": 1,
   "id": "00fd6ad2-524d-410b-a388-c78a134cf86b",
   "metadata": {},
   "outputs": [],
   "source": [
    "#tabular data imports :\n",
    "import pandas as pd\n",
    "import numpy as np\n",
    "from pydataset import data\n",
    "\n",
    "# visualization imports:\n",
    "import matplotlib.pyplot as plt\n",
    "import seaborn as sns\n",
    "# Custom palette with specified colors\n",
    "custom_palette = sns.color_palette([\"#33B8C6\", \"#C64133\", \"#4682B4\"])\n",
    "# Using a matplotlib colormap\n",
    "custom_palette2 = sns.color_palette([\"#33B8C6\",\"#50C2CE\",\"#6DCCD6\",\"#8AD6DE\",\"#A7E0E6\",\"#C4EAEE\",\"#E1F4F6\"])\n",
    "\n",
    "from sklearn.cluster import KMeans\n",
    "\n",
    "from sklearn.model_selection import train_test_split\n",
    "from sklearn.linear_model import LinearRegression, LassoLars, TweedieRegressor\n",
    "from sklearn.feature_selection import SelectKBest, RFE, f_regression, SequentialFeatureSelector\n",
    "# success metrics from earlier in the week: mean squared error and r^2 explained variance\n",
    "from sklearn.preprocessing import MinMaxScaler, PolynomialFeatures\n",
    "from sklearn.metrics import mean_squared_error\n",
    "from sklearn.metrics import r2_score\n",
    "from sklearn.preprocessing import PolynomialFeatures\n",
    "\n",
    "# success metrics from earlier in the week: mean squared error and r^2 explained variance\n",
    "from sklearn.preprocessing import MinMaxScaler, PolynomialFeatures\n",
    "\n",
    "#stats\n",
    "from scipy import stats\n",
    "from scipy.stats import pearsonr, spearmanr\n",
    "from scipy.stats import shapiro\n",
    "\n",
    "import warnings\n",
    "warnings.filterwarnings(\"ignore\")\n",
    "import wrangle as w\n",
    "import explore as e\n",
    "import model as m\n",
    "import os\n",
    "directory = os.getcwd()\n",
    "pd.set_option('display.max_columns', None)"
   ]
  },
  {
   "cell_type": "code",
   "execution_count": 2,
   "id": "a59914b8-6a85-42c9-891e-d05a34606c18",
   "metadata": {
    "tags": []
   },
   "outputs": [
    {
     "data": {
      "text/html": [
       "<div>\n",
       "<style scoped>\n",
       "    .dataframe tbody tr th:only-of-type {\n",
       "        vertical-align: middle;\n",
       "    }\n",
       "\n",
       "    .dataframe tbody tr th {\n",
       "        vertical-align: top;\n",
       "    }\n",
       "\n",
       "    .dataframe thead th {\n",
       "        text-align: right;\n",
       "    }\n",
       "</style>\n",
       "<table border=\"1\" class=\"dataframe\">\n",
       "  <thead>\n",
       "    <tr style=\"text-align: right;\">\n",
       "      <th></th>\n",
       "      <th>fixed_acidity</th>\n",
       "      <th>volatile_acidity</th>\n",
       "      <th>citric_acid</th>\n",
       "      <th>residual_sugar</th>\n",
       "      <th>chlorides</th>\n",
       "      <th>free_sulfur_dioxide</th>\n",
       "      <th>total_sulfur_dioxide</th>\n",
       "      <th>density</th>\n",
       "      <th>pH</th>\n",
       "      <th>sulphates</th>\n",
       "      <th>alcohol</th>\n",
       "      <th>quality</th>\n",
       "      <th>color</th>\n",
       "    </tr>\n",
       "    <tr>\n",
       "      <th>wine_id</th>\n",
       "      <th></th>\n",
       "      <th></th>\n",
       "      <th></th>\n",
       "      <th></th>\n",
       "      <th></th>\n",
       "      <th></th>\n",
       "      <th></th>\n",
       "      <th></th>\n",
       "      <th></th>\n",
       "      <th></th>\n",
       "      <th></th>\n",
       "      <th></th>\n",
       "      <th></th>\n",
       "    </tr>\n",
       "  </thead>\n",
       "  <tbody>\n",
       "    <tr>\n",
       "      <th>w-1</th>\n",
       "      <td>7.0</td>\n",
       "      <td>0.27</td>\n",
       "      <td>0.36</td>\n",
       "      <td>20.7</td>\n",
       "      <td>0.045</td>\n",
       "      <td>45.0</td>\n",
       "      <td>170.0</td>\n",
       "      <td>1.0010</td>\n",
       "      <td>3.00</td>\n",
       "      <td>0.45</td>\n",
       "      <td>8.8</td>\n",
       "      <td>6</td>\n",
       "      <td>white</td>\n",
       "    </tr>\n",
       "    <tr>\n",
       "      <th>w-2</th>\n",
       "      <td>6.3</td>\n",
       "      <td>0.30</td>\n",
       "      <td>0.34</td>\n",
       "      <td>1.6</td>\n",
       "      <td>0.049</td>\n",
       "      <td>14.0</td>\n",
       "      <td>132.0</td>\n",
       "      <td>0.9940</td>\n",
       "      <td>3.30</td>\n",
       "      <td>0.49</td>\n",
       "      <td>9.5</td>\n",
       "      <td>6</td>\n",
       "      <td>white</td>\n",
       "    </tr>\n",
       "    <tr>\n",
       "      <th>w-3</th>\n",
       "      <td>8.1</td>\n",
       "      <td>0.28</td>\n",
       "      <td>0.40</td>\n",
       "      <td>6.9</td>\n",
       "      <td>0.050</td>\n",
       "      <td>30.0</td>\n",
       "      <td>97.0</td>\n",
       "      <td>0.9951</td>\n",
       "      <td>3.26</td>\n",
       "      <td>0.44</td>\n",
       "      <td>10.1</td>\n",
       "      <td>6</td>\n",
       "      <td>white</td>\n",
       "    </tr>\n",
       "  </tbody>\n",
       "</table>\n",
       "</div>"
      ],
      "text/plain": [
       "         fixed_acidity  volatile_acidity  citric_acid  residual_sugar  \\\n",
       "wine_id                                                                 \n",
       "w-1                7.0              0.27         0.36            20.7   \n",
       "w-2                6.3              0.30         0.34             1.6   \n",
       "w-3                8.1              0.28         0.40             6.9   \n",
       "\n",
       "         chlorides  free_sulfur_dioxide  total_sulfur_dioxide  density    pH  \\\n",
       "wine_id                                                                        \n",
       "w-1          0.045                 45.0                 170.0   1.0010  3.00   \n",
       "w-2          0.049                 14.0                 132.0   0.9940  3.30   \n",
       "w-3          0.050                 30.0                  97.0   0.9951  3.26   \n",
       "\n",
       "         sulphates  alcohol  quality  color  \n",
       "wine_id                                      \n",
       "w-1           0.45      8.8        6  white  \n",
       "w-2           0.49      9.5        6  white  \n",
       "w-3           0.44     10.1        6  white  "
      ]
     },
     "execution_count": 2,
     "metadata": {},
     "output_type": "execute_result"
    }
   ],
   "source": [
    "# Calling the function that combines all the steps before and creates a .csv file from the df (to run faster and locally)\n",
    "df = w.prepare_wine(w.red_wine_url, w.white_wine_url)\n",
    "df.head(3)"
   ]
  },
  {
   "cell_type": "code",
   "execution_count": 3,
   "id": "cac826d8-aca2-4ec2-823c-ce493951a001",
   "metadata": {
    "tags": []
   },
   "outputs": [],
   "source": [
    "# using the split function to split my data into 60, 20, 20\n",
    "train, validate, test = m.split_data(df)"
   ]
  },
  {
   "cell_type": "code",
   "execution_count": 4,
   "id": "edff7bbd-850d-4e0f-9dce-c48c699afed8",
   "metadata": {
    "tags": []
   },
   "outputs": [
    {
     "data": {
      "text/html": [
       "<div>\n",
       "<style scoped>\n",
       "    .dataframe tbody tr th:only-of-type {\n",
       "        vertical-align: middle;\n",
       "    }\n",
       "\n",
       "    .dataframe tbody tr th {\n",
       "        vertical-align: top;\n",
       "    }\n",
       "\n",
       "    .dataframe thead th {\n",
       "        text-align: right;\n",
       "    }\n",
       "</style>\n",
       "<table border=\"1\" class=\"dataframe\">\n",
       "  <thead>\n",
       "    <tr style=\"text-align: right;\">\n",
       "      <th></th>\n",
       "      <th>fixed_acidity</th>\n",
       "      <th>volatile_acidity</th>\n",
       "      <th>citric_acid</th>\n",
       "      <th>residual_sugar</th>\n",
       "      <th>chlorides</th>\n",
       "      <th>free_sulfur_dioxide</th>\n",
       "      <th>total_sulfur_dioxide</th>\n",
       "      <th>density</th>\n",
       "      <th>pH</th>\n",
       "      <th>sulphates</th>\n",
       "      <th>alcohol</th>\n",
       "      <th>quality</th>\n",
       "      <th>color</th>\n",
       "    </tr>\n",
       "    <tr>\n",
       "      <th>wine_id</th>\n",
       "      <th></th>\n",
       "      <th></th>\n",
       "      <th></th>\n",
       "      <th></th>\n",
       "      <th></th>\n",
       "      <th></th>\n",
       "      <th></th>\n",
       "      <th></th>\n",
       "      <th></th>\n",
       "      <th></th>\n",
       "      <th></th>\n",
       "      <th></th>\n",
       "      <th></th>\n",
       "    </tr>\n",
       "  </thead>\n",
       "  <tbody>\n",
       "    <tr>\n",
       "      <th>w-4568</th>\n",
       "      <td>5.8</td>\n",
       "      <td>0.28</td>\n",
       "      <td>0.66</td>\n",
       "      <td>9.1</td>\n",
       "      <td>0.039</td>\n",
       "      <td>26.0</td>\n",
       "      <td>159.0</td>\n",
       "      <td>0.99650</td>\n",
       "      <td>3.66</td>\n",
       "      <td>0.55</td>\n",
       "      <td>10.8</td>\n",
       "      <td>5</td>\n",
       "      <td>white</td>\n",
       "    </tr>\n",
       "    <tr>\n",
       "      <th>w-3787</th>\n",
       "      <td>7.4</td>\n",
       "      <td>0.29</td>\n",
       "      <td>0.48</td>\n",
       "      <td>12.8</td>\n",
       "      <td>0.037</td>\n",
       "      <td>61.5</td>\n",
       "      <td>182.0</td>\n",
       "      <td>0.99808</td>\n",
       "      <td>3.02</td>\n",
       "      <td>0.34</td>\n",
       "      <td>8.8</td>\n",
       "      <td>5</td>\n",
       "      <td>white</td>\n",
       "    </tr>\n",
       "    <tr>\n",
       "      <th>r-834</th>\n",
       "      <td>11.6</td>\n",
       "      <td>0.47</td>\n",
       "      <td>0.44</td>\n",
       "      <td>1.6</td>\n",
       "      <td>0.147</td>\n",
       "      <td>36.0</td>\n",
       "      <td>51.0</td>\n",
       "      <td>0.99836</td>\n",
       "      <td>3.38</td>\n",
       "      <td>0.86</td>\n",
       "      <td>9.9</td>\n",
       "      <td>4</td>\n",
       "      <td>red</td>\n",
       "    </tr>\n",
       "    <tr>\n",
       "      <th>r-550</th>\n",
       "      <td>9.0</td>\n",
       "      <td>0.53</td>\n",
       "      <td>0.49</td>\n",
       "      <td>1.9</td>\n",
       "      <td>0.171</td>\n",
       "      <td>6.0</td>\n",
       "      <td>25.0</td>\n",
       "      <td>0.99750</td>\n",
       "      <td>3.27</td>\n",
       "      <td>0.61</td>\n",
       "      <td>9.4</td>\n",
       "      <td>6</td>\n",
       "      <td>red</td>\n",
       "    </tr>\n",
       "    <tr>\n",
       "      <th>w-4828</th>\n",
       "      <td>6.7</td>\n",
       "      <td>0.22</td>\n",
       "      <td>0.33</td>\n",
       "      <td>1.2</td>\n",
       "      <td>0.036</td>\n",
       "      <td>36.0</td>\n",
       "      <td>86.0</td>\n",
       "      <td>0.99058</td>\n",
       "      <td>3.10</td>\n",
       "      <td>0.76</td>\n",
       "      <td>11.4</td>\n",
       "      <td>6</td>\n",
       "      <td>white</td>\n",
       "    </tr>\n",
       "  </tbody>\n",
       "</table>\n",
       "</div>"
      ],
      "text/plain": [
       "         fixed_acidity  volatile_acidity  citric_acid  residual_sugar  \\\n",
       "wine_id                                                                 \n",
       "w-4568             5.8              0.28         0.66             9.1   \n",
       "w-3787             7.4              0.29         0.48            12.8   \n",
       "r-834             11.6              0.47         0.44             1.6   \n",
       "r-550              9.0              0.53         0.49             1.9   \n",
       "w-4828             6.7              0.22         0.33             1.2   \n",
       "\n",
       "         chlorides  free_sulfur_dioxide  total_sulfur_dioxide  density    pH  \\\n",
       "wine_id                                                                        \n",
       "w-4568       0.039                 26.0                 159.0  0.99650  3.66   \n",
       "w-3787       0.037                 61.5                 182.0  0.99808  3.02   \n",
       "r-834        0.147                 36.0                  51.0  0.99836  3.38   \n",
       "r-550        0.171                  6.0                  25.0  0.99750  3.27   \n",
       "w-4828       0.036                 36.0                  86.0  0.99058  3.10   \n",
       "\n",
       "         sulphates  alcohol  quality  color  \n",
       "wine_id                                      \n",
       "w-4568        0.55     10.8        5  white  \n",
       "w-3787        0.34      8.8        5  white  \n",
       "r-834         0.86      9.9        4    red  \n",
       "r-550         0.61      9.4        6    red  \n",
       "w-4828        0.76     11.4        6  white  "
      ]
     },
     "execution_count": 4,
     "metadata": {},
     "output_type": "execute_result"
    }
   ],
   "source": [
    "train.head()"
   ]
  },
  {
   "cell_type": "code",
   "execution_count": 5,
   "id": "73e205ba-9eca-4287-99bd-7bf7cb4d9bdd",
   "metadata": {
    "tags": []
   },
   "outputs": [],
   "source": [
    "X_train, y_train = train.drop(columns=['quality','color']), train['quality']\n",
    "X_validate, y_validate = validate.drop(columns=['quality','color']), validate['quality']\n",
    "X_test, y_test = test.drop(columns=['quality','color']), test['quality']"
   ]
  },
  {
   "cell_type": "code",
   "execution_count": 6,
   "id": "919c3e5f-fbb8-4d21-8dee-b08b590e8080",
   "metadata": {
    "tags": []
   },
   "outputs": [],
   "source": [
    "# make a scaler:\n",
    "scaler = MinMaxScaler()\n",
    "# fit and use a scaler:\n",
    "X_train_scaled = scaler.fit_transform(X_train)\n",
    "# use only on validate\n",
    "X_validate_scaled = scaler.transform(X_validate)\n",
    "# use only on test:\n",
    "X_test_scaled = scaler.transform(X_test)\n",
    "# setting values for train group\n",
    "X = X_train_scaled\n",
    "y = y_train"
   ]
  },
  {
   "cell_type": "code",
   "execution_count": 7,
   "id": "b3fc4c09-2ad4-4c11-af08-c6af94112b66",
   "metadata": {
    "tags": []
   },
   "outputs": [
    {
     "data": {
      "text/plain": [
       "array([[0.16528926, 0.13333333, 0.39759036, ..., 0.72868217, 0.18539326,\n",
       "        0.4057971 ],\n",
       "       [0.29752066, 0.14      , 0.28915663, ..., 0.23255814, 0.06741573,\n",
       "        0.11594203],\n",
       "       [0.6446281 , 0.26      , 0.26506024, ..., 0.51162791, 0.35955056,\n",
       "        0.27536232],\n",
       "       ...,\n",
       "       [0.21487603, 0.09333333, 0.19277108, ..., 0.52713178, 0.09550562,\n",
       "        0.31884058],\n",
       "       [0.4214876 , 0.10666667, 0.19879518, ..., 0.21705426, 0.08426966,\n",
       "        0.5942029 ],\n",
       "       [0.2231405 , 0.06666667, 0.18674699, ..., 0.59689922, 0.15730337,\n",
       "        0.31884058]])"
      ]
     },
     "execution_count": 7,
     "metadata": {},
     "output_type": "execute_result"
    }
   ],
   "source": [
    "X_train_scaled"
   ]
  },
  {
   "cell_type": "markdown",
   "id": "18a99eb6-22b2-4b80-a74d-4ddf915fd6d4",
   "metadata": {},
   "source": [
    "# Modeling"
   ]
  },
  {
   "cell_type": "code",
   "execution_count": 8,
   "id": "e4ec2e16-63be-4949-896f-51de73afc8bc",
   "metadata": {
    "tags": []
   },
   "outputs": [
    {
     "data": {
      "text/plain": [
       "0    6\n",
       "Name: quality, dtype: int64"
      ]
     },
     "execution_count": 8,
     "metadata": {},
     "output_type": "execute_result"
    }
   ],
   "source": [
    "# BASELINE\n",
    "baseline = y.mode()\n",
    "round(baseline,2)"
   ]
  },
  {
   "cell_type": "code",
   "execution_count": 9,
   "id": "a75c5b56-652e-4757-9a16-2af617a78d47",
   "metadata": {
    "tags": []
   },
   "outputs": [],
   "source": [
    "# making a baseline guess dataframe\n",
    "# that is the same shape as our y variable:\n",
    "# np.repeat does what it sounds like\n",
    "baseline_array = np.repeat(baseline, y.shape[0])\n",
    "baseline_rmse, baseline_r2 = m.evaluate_reg(y, baseline_array)"
   ]
  },
  {
   "cell_type": "code",
   "execution_count": 10,
   "id": "b0665f5e-bfa3-4942-bc1a-20dc20752dd1",
   "metadata": {
    "tags": []
   },
   "outputs": [
    {
     "data": {
      "text/html": [
       "<div>\n",
       "<style scoped>\n",
       "    .dataframe tbody tr th:only-of-type {\n",
       "        vertical-align: middle;\n",
       "    }\n",
       "\n",
       "    .dataframe tbody tr th {\n",
       "        vertical-align: top;\n",
       "    }\n",
       "\n",
       "    .dataframe thead th {\n",
       "        text-align: right;\n",
       "    }\n",
       "</style>\n",
       "<table border=\"1\" class=\"dataframe\">\n",
       "  <thead>\n",
       "    <tr style=\"text-align: right;\">\n",
       "      <th></th>\n",
       "      <th>Model</th>\n",
       "      <th>rmse</th>\n",
       "      <th>r2</th>\n",
       "    </tr>\n",
       "  </thead>\n",
       "  <tbody>\n",
       "    <tr>\n",
       "      <th>0</th>\n",
       "      <td>baseline</td>\n",
       "      <td>0.90158</td>\n",
       "      <td>-0.046374</td>\n",
       "    </tr>\n",
       "  </tbody>\n",
       "</table>\n",
       "</div>"
      ],
      "text/plain": [
       "      Model     rmse        r2\n",
       "0  baseline  0.90158 -0.046374"
      ]
     },
     "execution_count": 10,
     "metadata": {},
     "output_type": "execute_result"
    }
   ],
   "source": [
    "# setting up a dictionary to add the results of the models\n",
    "eval_df = pd.DataFrame([{\n",
    "    'Model': 'baseline',\n",
    "    'rmse': baseline_rmse,\n",
    "    'r2': baseline_r2\n",
    "}])\n",
    "eval_df"
   ]
  },
  {
   "cell_type": "markdown",
   "id": "b2bbb2b6-541b-4011-bf37-e376e79cf143",
   "metadata": {
    "tags": []
   },
   "source": [
    "## MODEL: LassoLars\n",
    "\n",
    "- train\n",
    "- Validate"
   ]
  },
  {
   "cell_type": "code",
   "execution_count": 11,
   "id": "cebac9af-5b1d-4b8a-b756-29c7a8b4ea2c",
   "metadata": {
    "tags": []
   },
   "outputs": [],
   "source": [
    "# fit a version of this that has an alpha of 1:\n",
    "# make it\n",
    "lasso = LassoLars(alpha=1)\n",
    "# fit it:\n",
    "lasso = lasso.fit(X, y)"
   ]
  },
  {
   "cell_type": "code",
   "execution_count": 12,
   "id": "66deb2d9-2e76-4823-97e1-6f884271777a",
   "metadata": {},
   "outputs": [
    {
     "data": {
      "text/html": [
       "<div>\n",
       "<style scoped>\n",
       "    .dataframe tbody tr th:only-of-type {\n",
       "        vertical-align: middle;\n",
       "    }\n",
       "\n",
       "    .dataframe tbody tr th {\n",
       "        vertical-align: top;\n",
       "    }\n",
       "\n",
       "    .dataframe thead th {\n",
       "        text-align: right;\n",
       "    }\n",
       "</style>\n",
       "<table border=\"1\" class=\"dataframe\">\n",
       "  <thead>\n",
       "    <tr style=\"text-align: right;\">\n",
       "      <th></th>\n",
       "      <th>Model</th>\n",
       "      <th>rmse</th>\n",
       "      <th>r2</th>\n",
       "    </tr>\n",
       "  </thead>\n",
       "  <tbody>\n",
       "    <tr>\n",
       "      <th>0</th>\n",
       "      <td>baseline</td>\n",
       "      <td>0.901580</td>\n",
       "      <td>-0.046374</td>\n",
       "    </tr>\n",
       "    <tr>\n",
       "      <th>1</th>\n",
       "      <td>lasso</td>\n",
       "      <td>0.881375</td>\n",
       "      <td>0.000000</td>\n",
       "    </tr>\n",
       "  </tbody>\n",
       "</table>\n",
       "</div>"
      ],
      "text/plain": [
       "      Model      rmse        r2\n",
       "0  baseline  0.901580 -0.046374\n",
       "1     lasso  0.881375  0.000000"
      ]
     },
     "execution_count": 12,
     "metadata": {},
     "output_type": "execute_result"
    }
   ],
   "source": [
    "# Evaluate\n",
    "# pd.concat is a one-liner so I dont really feel the need to\n",
    "# create a whole new function for this atm even though\n",
    "# we will do it a few times:\n",
    "rmse, r_2 = m.evaluate_reg(y, lasso.predict(X))\n",
    "eval_df = pd.concat([eval_df, pd.DataFrame(\n",
    "[\n",
    "    {\n",
    "        'Model': 'lasso',\n",
    "        'rmse': rmse,\n",
    "        'r2': r_2\n",
    "    }\n",
    "])], ignore_index=True, axis=0)\n",
    "eval_df"
   ]
  },
  {
   "cell_type": "code",
   "execution_count": 13,
   "id": "799347df-108f-4d8f-8ceb-22cf0aaf4b30",
   "metadata": {
    "tags": []
   },
   "outputs": [
    {
     "data": {
      "text/html": [
       "<div>\n",
       "<style scoped>\n",
       "    .dataframe tbody tr th:only-of-type {\n",
       "        vertical-align: middle;\n",
       "    }\n",
       "\n",
       "    .dataframe tbody tr th {\n",
       "        vertical-align: top;\n",
       "    }\n",
       "\n",
       "    .dataframe thead th {\n",
       "        text-align: right;\n",
       "    }\n",
       "</style>\n",
       "<table border=\"1\" class=\"dataframe\">\n",
       "  <thead>\n",
       "    <tr style=\"text-align: right;\">\n",
       "      <th></th>\n",
       "      <th>Val_Model</th>\n",
       "      <th>val_rmse</th>\n",
       "      <th>val_r2</th>\n",
       "    </tr>\n",
       "  </thead>\n",
       "  <tbody>\n",
       "    <tr>\n",
       "      <th>0</th>\n",
       "      <td>lasso</td>\n",
       "      <td>0.847895</td>\n",
       "      <td>-1.979688e-07</td>\n",
       "    </tr>\n",
       "  </tbody>\n",
       "</table>\n",
       "</div>"
      ],
      "text/plain": [
       "  Val_Model  val_rmse        val_r2\n",
       "0     lasso  0.847895 -1.979688e-07"
      ]
     },
     "execution_count": 13,
     "metadata": {},
     "output_type": "execute_result"
    }
   ],
   "source": [
    "# doing the same for validate sample data\n",
    "val_rmse, val_r2 = m.evaluate_reg(y_validate, lasso.predict(X_validate))\n",
    "val_dict = pd.DataFrame([{\n",
    "    'Val_Model': 'lasso',\n",
    "    'val_rmse': val_rmse,\n",
    "    'val_r2': val_r2\n",
    "}])\n",
    "val_scores = [val_dict]\n",
    "val_scores.append([val_dict])\n",
    "val_dict"
   ]
  },
  {
   "cell_type": "markdown",
   "id": "7f112e32-740a-470b-926f-13ec422d691d",
   "metadata": {},
   "source": [
    "## MODEL: Polynomial Regression\n",
    "\n",
    "- train\n",
    "- Validate"
   ]
  },
  {
   "cell_type": "code",
   "execution_count": 14,
   "id": "2a60120a-b40d-4ece-b429-88a453be744c",
   "metadata": {
    "tags": []
   },
   "outputs": [],
   "source": [
    "# do a preprocessing step with our training data\n",
    "# x^2\n",
    "pf2 = PolynomialFeatures(degree=2)\n",
    "# fit the thing, also use it\n",
    "x_train_sq = pf2.fit_transform(X)\n",
    "# use this transformer to change our val and test:\n",
    "x_val_sq = pf2.transform(X_validate)\n",
    "x_test_sq = pf2.transform(X_test)"
   ]
  },
  {
   "cell_type": "code",
   "execution_count": 15,
   "id": "3ca47d68-56dd-413b-9a89-5138a3808dc3",
   "metadata": {
    "tags": []
   },
   "outputs": [
    {
     "data": {
      "text/html": [
       "<style>#sk-container-id-1 {color: black;}#sk-container-id-1 pre{padding: 0;}#sk-container-id-1 div.sk-toggleable {background-color: white;}#sk-container-id-1 label.sk-toggleable__label {cursor: pointer;display: block;width: 100%;margin-bottom: 0;padding: 0.3em;box-sizing: border-box;text-align: center;}#sk-container-id-1 label.sk-toggleable__label-arrow:before {content: \"▸\";float: left;margin-right: 0.25em;color: #696969;}#sk-container-id-1 label.sk-toggleable__label-arrow:hover:before {color: black;}#sk-container-id-1 div.sk-estimator:hover label.sk-toggleable__label-arrow:before {color: black;}#sk-container-id-1 div.sk-toggleable__content {max-height: 0;max-width: 0;overflow: hidden;text-align: left;background-color: #f0f8ff;}#sk-container-id-1 div.sk-toggleable__content pre {margin: 0.2em;color: black;border-radius: 0.25em;background-color: #f0f8ff;}#sk-container-id-1 input.sk-toggleable__control:checked~div.sk-toggleable__content {max-height: 200px;max-width: 100%;overflow: auto;}#sk-container-id-1 input.sk-toggleable__control:checked~label.sk-toggleable__label-arrow:before {content: \"▾\";}#sk-container-id-1 div.sk-estimator input.sk-toggleable__control:checked~label.sk-toggleable__label {background-color: #d4ebff;}#sk-container-id-1 div.sk-label input.sk-toggleable__control:checked~label.sk-toggleable__label {background-color: #d4ebff;}#sk-container-id-1 input.sk-hidden--visually {border: 0;clip: rect(1px 1px 1px 1px);clip: rect(1px, 1px, 1px, 1px);height: 1px;margin: -1px;overflow: hidden;padding: 0;position: absolute;width: 1px;}#sk-container-id-1 div.sk-estimator {font-family: monospace;background-color: #f0f8ff;border: 1px dotted black;border-radius: 0.25em;box-sizing: border-box;margin-bottom: 0.5em;}#sk-container-id-1 div.sk-estimator:hover {background-color: #d4ebff;}#sk-container-id-1 div.sk-parallel-item::after {content: \"\";width: 100%;border-bottom: 1px solid gray;flex-grow: 1;}#sk-container-id-1 div.sk-label:hover label.sk-toggleable__label {background-color: #d4ebff;}#sk-container-id-1 div.sk-serial::before {content: \"\";position: absolute;border-left: 1px solid gray;box-sizing: border-box;top: 0;bottom: 0;left: 50%;z-index: 0;}#sk-container-id-1 div.sk-serial {display: flex;flex-direction: column;align-items: center;background-color: white;padding-right: 0.2em;padding-left: 0.2em;position: relative;}#sk-container-id-1 div.sk-item {position: relative;z-index: 1;}#sk-container-id-1 div.sk-parallel {display: flex;align-items: stretch;justify-content: center;background-color: white;position: relative;}#sk-container-id-1 div.sk-item::before, #sk-container-id-1 div.sk-parallel-item::before {content: \"\";position: absolute;border-left: 1px solid gray;box-sizing: border-box;top: 0;bottom: 0;left: 50%;z-index: -1;}#sk-container-id-1 div.sk-parallel-item {display: flex;flex-direction: column;z-index: 1;position: relative;background-color: white;}#sk-container-id-1 div.sk-parallel-item:first-child::after {align-self: flex-end;width: 50%;}#sk-container-id-1 div.sk-parallel-item:last-child::after {align-self: flex-start;width: 50%;}#sk-container-id-1 div.sk-parallel-item:only-child::after {width: 0;}#sk-container-id-1 div.sk-dashed-wrapped {border: 1px dashed gray;margin: 0 0.4em 0.5em 0.4em;box-sizing: border-box;padding-bottom: 0.4em;background-color: white;}#sk-container-id-1 div.sk-label label {font-family: monospace;font-weight: bold;display: inline-block;line-height: 1.2em;}#sk-container-id-1 div.sk-label-container {text-align: center;}#sk-container-id-1 div.sk-container {/* jupyter's `normalize.less` sets `[hidden] { display: none; }` but bootstrap.min.css set `[hidden] { display: none !important; }` so we also need the `!important` here to be able to override the default hidden behavior on the sphinx rendered scikit-learn.org. See: https://github.com/scikit-learn/scikit-learn/issues/21755 */display: inline-block !important;position: relative;}#sk-container-id-1 div.sk-text-repr-fallback {display: none;}</style><div id=\"sk-container-id-1\" class=\"sk-top-container\"><div class=\"sk-text-repr-fallback\"><pre>LinearRegression()</pre><b>In a Jupyter environment, please rerun this cell to show the HTML representation or trust the notebook. <br />On GitHub, the HTML representation is unable to render, please try loading this page with nbviewer.org.</b></div><div class=\"sk-container\" hidden><div class=\"sk-item\"><div class=\"sk-estimator sk-toggleable\"><input class=\"sk-toggleable__control sk-hidden--visually\" id=\"sk-estimator-id-1\" type=\"checkbox\" checked><label for=\"sk-estimator-id-1\" class=\"sk-toggleable__label sk-toggleable__label-arrow\">LinearRegression</label><div class=\"sk-toggleable__content\"><pre>LinearRegression()</pre></div></div></div></div></div>"
      ],
      "text/plain": [
       "LinearRegression()"
      ]
     },
     "execution_count": 15,
     "metadata": {},
     "output_type": "execute_result"
    }
   ],
   "source": [
    "# make a new model for our polynomial regressor:\n",
    "plyreg2 = LinearRegression()\n",
    "plyreg2.fit(x_train_sq, y)"
   ]
  },
  {
   "cell_type": "code",
   "execution_count": 16,
   "id": "e896f3b2-218b-47e4-80ab-0253ee8bbafe",
   "metadata": {
    "tags": []
   },
   "outputs": [
    {
     "data": {
      "text/html": [
       "<div>\n",
       "<style scoped>\n",
       "    .dataframe tbody tr th:only-of-type {\n",
       "        vertical-align: middle;\n",
       "    }\n",
       "\n",
       "    .dataframe tbody tr th {\n",
       "        vertical-align: top;\n",
       "    }\n",
       "\n",
       "    .dataframe thead th {\n",
       "        text-align: right;\n",
       "    }\n",
       "</style>\n",
       "<table border=\"1\" class=\"dataframe\">\n",
       "  <thead>\n",
       "    <tr style=\"text-align: right;\">\n",
       "      <th></th>\n",
       "      <th>Model</th>\n",
       "      <th>rmse</th>\n",
       "      <th>r2</th>\n",
       "    </tr>\n",
       "  </thead>\n",
       "  <tbody>\n",
       "    <tr>\n",
       "      <th>0</th>\n",
       "      <td>baseline</td>\n",
       "      <td>0.901580</td>\n",
       "      <td>-0.046374</td>\n",
       "    </tr>\n",
       "    <tr>\n",
       "      <th>1</th>\n",
       "      <td>lasso</td>\n",
       "      <td>0.881375</td>\n",
       "      <td>0.000000</td>\n",
       "    </tr>\n",
       "    <tr>\n",
       "      <th>2</th>\n",
       "      <td>quad_reg2</td>\n",
       "      <td>0.695629</td>\n",
       "      <td>0.377078</td>\n",
       "    </tr>\n",
       "  </tbody>\n",
       "</table>\n",
       "</div>"
      ],
      "text/plain": [
       "       Model      rmse        r2\n",
       "0   baseline  0.901580 -0.046374\n",
       "1      lasso  0.881375  0.000000\n",
       "2  quad_reg2  0.695629  0.377078"
      ]
     },
     "execution_count": 16,
     "metadata": {},
     "output_type": "execute_result"
    }
   ],
   "source": [
    "# pd.concatin into eval the second model on train\n",
    "\n",
    "rmse, r_2 = m.evaluate_reg(y, plyreg2.predict(x_train_sq))\n",
    "eval_df = pd.concat([eval_df, pd.DataFrame(\n",
    "[\n",
    "    {\n",
    "        'Model': 'quad_reg2',\n",
    "        'rmse': rmse,\n",
    "        'r2': r_2\n",
    "    }\n",
    "])], ignore_index=True, axis=0)\n",
    "eval_df"
   ]
  },
  {
   "cell_type": "code",
   "execution_count": 17,
   "id": "9f4fdfbd-9016-44bb-9b86-45fbcfb36947",
   "metadata": {
    "tags": []
   },
   "outputs": [
    {
     "data": {
      "text/html": [
       "<div>\n",
       "<style scoped>\n",
       "    .dataframe tbody tr th:only-of-type {\n",
       "        vertical-align: middle;\n",
       "    }\n",
       "\n",
       "    .dataframe tbody tr th {\n",
       "        vertical-align: top;\n",
       "    }\n",
       "\n",
       "    .dataframe thead th {\n",
       "        text-align: right;\n",
       "    }\n",
       "</style>\n",
       "<table border=\"1\" class=\"dataframe\">\n",
       "  <thead>\n",
       "    <tr style=\"text-align: right;\">\n",
       "      <th></th>\n",
       "      <th>Val_Model</th>\n",
       "      <th>val_rmse</th>\n",
       "      <th>val_r2</th>\n",
       "    </tr>\n",
       "  </thead>\n",
       "  <tbody>\n",
       "    <tr>\n",
       "      <th>0</th>\n",
       "      <td>lasso</td>\n",
       "      <td>0.847895</td>\n",
       "      <td>-1.979688e-07</td>\n",
       "    </tr>\n",
       "    <tr>\n",
       "      <th>1</th>\n",
       "      <td>quad_reg2</td>\n",
       "      <td>21631.119845</td>\n",
       "      <td>-6.508388e+08</td>\n",
       "    </tr>\n",
       "  </tbody>\n",
       "</table>\n",
       "</div>"
      ],
      "text/plain": [
       "   Val_Model      val_rmse        val_r2\n",
       "0      lasso      0.847895 -1.979688e-07\n",
       "1  quad_reg2  21631.119845 -6.508388e+08"
      ]
     },
     "execution_count": 17,
     "metadata": {},
     "output_type": "execute_result"
    }
   ],
   "source": [
    "# concating on val_dict to add the second model on validate\n",
    "val_rmse, val_r2 = m.evaluate_reg(y_validate, plyreg2.predict(x_val_sq))\n",
    "val_dict = pd.concat([val_dict, pd.DataFrame([({\n",
    "    'Val_Model': 'quad_reg2',\n",
    "    'val_rmse': val_rmse,\n",
    "    'val_r2': val_r2\n",
    "})])], ignore_index=True, axis=0)\n",
    "val_scores.append([val_dict])\n",
    "val_dict"
   ]
  },
  {
   "cell_type": "code",
   "execution_count": 18,
   "id": "b728c43f-a7e1-4c60-9d53-10a4416f0447",
   "metadata": {
    "tags": []
   },
   "outputs": [],
   "source": [
    "# do a preprocessing step with our training data\n",
    "# x^3\n",
    "pf3 = PolynomialFeatures(degree=3)\n",
    "# fit the thing, also use it\n",
    "x_train_sq = pf3.fit_transform(X)\n",
    "# use this transformer to change our val and test:\n",
    "x_val_sq = pf3.transform(X_validate)\n",
    "x_test_sq = pf3.transform(X_test)"
   ]
  },
  {
   "cell_type": "code",
   "execution_count": 19,
   "id": "5e63c1fe-c545-4f49-8be0-a4b7c92a3ee2",
   "metadata": {
    "tags": []
   },
   "outputs": [
    {
     "data": {
      "text/html": [
       "<style>#sk-container-id-2 {color: black;}#sk-container-id-2 pre{padding: 0;}#sk-container-id-2 div.sk-toggleable {background-color: white;}#sk-container-id-2 label.sk-toggleable__label {cursor: pointer;display: block;width: 100%;margin-bottom: 0;padding: 0.3em;box-sizing: border-box;text-align: center;}#sk-container-id-2 label.sk-toggleable__label-arrow:before {content: \"▸\";float: left;margin-right: 0.25em;color: #696969;}#sk-container-id-2 label.sk-toggleable__label-arrow:hover:before {color: black;}#sk-container-id-2 div.sk-estimator:hover label.sk-toggleable__label-arrow:before {color: black;}#sk-container-id-2 div.sk-toggleable__content {max-height: 0;max-width: 0;overflow: hidden;text-align: left;background-color: #f0f8ff;}#sk-container-id-2 div.sk-toggleable__content pre {margin: 0.2em;color: black;border-radius: 0.25em;background-color: #f0f8ff;}#sk-container-id-2 input.sk-toggleable__control:checked~div.sk-toggleable__content {max-height: 200px;max-width: 100%;overflow: auto;}#sk-container-id-2 input.sk-toggleable__control:checked~label.sk-toggleable__label-arrow:before {content: \"▾\";}#sk-container-id-2 div.sk-estimator input.sk-toggleable__control:checked~label.sk-toggleable__label {background-color: #d4ebff;}#sk-container-id-2 div.sk-label input.sk-toggleable__control:checked~label.sk-toggleable__label {background-color: #d4ebff;}#sk-container-id-2 input.sk-hidden--visually {border: 0;clip: rect(1px 1px 1px 1px);clip: rect(1px, 1px, 1px, 1px);height: 1px;margin: -1px;overflow: hidden;padding: 0;position: absolute;width: 1px;}#sk-container-id-2 div.sk-estimator {font-family: monospace;background-color: #f0f8ff;border: 1px dotted black;border-radius: 0.25em;box-sizing: border-box;margin-bottom: 0.5em;}#sk-container-id-2 div.sk-estimator:hover {background-color: #d4ebff;}#sk-container-id-2 div.sk-parallel-item::after {content: \"\";width: 100%;border-bottom: 1px solid gray;flex-grow: 1;}#sk-container-id-2 div.sk-label:hover label.sk-toggleable__label {background-color: #d4ebff;}#sk-container-id-2 div.sk-serial::before {content: \"\";position: absolute;border-left: 1px solid gray;box-sizing: border-box;top: 0;bottom: 0;left: 50%;z-index: 0;}#sk-container-id-2 div.sk-serial {display: flex;flex-direction: column;align-items: center;background-color: white;padding-right: 0.2em;padding-left: 0.2em;position: relative;}#sk-container-id-2 div.sk-item {position: relative;z-index: 1;}#sk-container-id-2 div.sk-parallel {display: flex;align-items: stretch;justify-content: center;background-color: white;position: relative;}#sk-container-id-2 div.sk-item::before, #sk-container-id-2 div.sk-parallel-item::before {content: \"\";position: absolute;border-left: 1px solid gray;box-sizing: border-box;top: 0;bottom: 0;left: 50%;z-index: -1;}#sk-container-id-2 div.sk-parallel-item {display: flex;flex-direction: column;z-index: 1;position: relative;background-color: white;}#sk-container-id-2 div.sk-parallel-item:first-child::after {align-self: flex-end;width: 50%;}#sk-container-id-2 div.sk-parallel-item:last-child::after {align-self: flex-start;width: 50%;}#sk-container-id-2 div.sk-parallel-item:only-child::after {width: 0;}#sk-container-id-2 div.sk-dashed-wrapped {border: 1px dashed gray;margin: 0 0.4em 0.5em 0.4em;box-sizing: border-box;padding-bottom: 0.4em;background-color: white;}#sk-container-id-2 div.sk-label label {font-family: monospace;font-weight: bold;display: inline-block;line-height: 1.2em;}#sk-container-id-2 div.sk-label-container {text-align: center;}#sk-container-id-2 div.sk-container {/* jupyter's `normalize.less` sets `[hidden] { display: none; }` but bootstrap.min.css set `[hidden] { display: none !important; }` so we also need the `!important` here to be able to override the default hidden behavior on the sphinx rendered scikit-learn.org. See: https://github.com/scikit-learn/scikit-learn/issues/21755 */display: inline-block !important;position: relative;}#sk-container-id-2 div.sk-text-repr-fallback {display: none;}</style><div id=\"sk-container-id-2\" class=\"sk-top-container\"><div class=\"sk-text-repr-fallback\"><pre>LinearRegression()</pre><b>In a Jupyter environment, please rerun this cell to show the HTML representation or trust the notebook. <br />On GitHub, the HTML representation is unable to render, please try loading this page with nbviewer.org.</b></div><div class=\"sk-container\" hidden><div class=\"sk-item\"><div class=\"sk-estimator sk-toggleable\"><input class=\"sk-toggleable__control sk-hidden--visually\" id=\"sk-estimator-id-2\" type=\"checkbox\" checked><label for=\"sk-estimator-id-2\" class=\"sk-toggleable__label sk-toggleable__label-arrow\">LinearRegression</label><div class=\"sk-toggleable__content\"><pre>LinearRegression()</pre></div></div></div></div></div>"
      ],
      "text/plain": [
       "LinearRegression()"
      ]
     },
     "execution_count": 19,
     "metadata": {},
     "output_type": "execute_result"
    }
   ],
   "source": [
    "# make a new model for our polynomial regressor:\n",
    "plyreg3 = LinearRegression()\n",
    "plyreg3.fit(x_train_sq, y)"
   ]
  },
  {
   "cell_type": "code",
   "execution_count": 20,
   "id": "a95a5e7a-40e1-4570-97df-2526065c499f",
   "metadata": {
    "tags": []
   },
   "outputs": [
    {
     "data": {
      "text/html": [
       "<div>\n",
       "<style scoped>\n",
       "    .dataframe tbody tr th:only-of-type {\n",
       "        vertical-align: middle;\n",
       "    }\n",
       "\n",
       "    .dataframe tbody tr th {\n",
       "        vertical-align: top;\n",
       "    }\n",
       "\n",
       "    .dataframe thead th {\n",
       "        text-align: right;\n",
       "    }\n",
       "</style>\n",
       "<table border=\"1\" class=\"dataframe\">\n",
       "  <thead>\n",
       "    <tr style=\"text-align: right;\">\n",
       "      <th></th>\n",
       "      <th>Model</th>\n",
       "      <th>rmse</th>\n",
       "      <th>r2</th>\n",
       "    </tr>\n",
       "  </thead>\n",
       "  <tbody>\n",
       "    <tr>\n",
       "      <th>0</th>\n",
       "      <td>baseline</td>\n",
       "      <td>0.901580</td>\n",
       "      <td>-0.046374</td>\n",
       "    </tr>\n",
       "    <tr>\n",
       "      <th>1</th>\n",
       "      <td>lasso</td>\n",
       "      <td>0.881375</td>\n",
       "      <td>0.000000</td>\n",
       "    </tr>\n",
       "    <tr>\n",
       "      <th>2</th>\n",
       "      <td>quad_reg2</td>\n",
       "      <td>0.695629</td>\n",
       "      <td>0.377078</td>\n",
       "    </tr>\n",
       "    <tr>\n",
       "      <th>3</th>\n",
       "      <td>quad_reg3</td>\n",
       "      <td>0.637043</td>\n",
       "      <td>0.477585</td>\n",
       "    </tr>\n",
       "  </tbody>\n",
       "</table>\n",
       "</div>"
      ],
      "text/plain": [
       "       Model      rmse        r2\n",
       "0   baseline  0.901580 -0.046374\n",
       "1      lasso  0.881375  0.000000\n",
       "2  quad_reg2  0.695629  0.377078\n",
       "3  quad_reg3  0.637043  0.477585"
      ]
     },
     "execution_count": 20,
     "metadata": {},
     "output_type": "execute_result"
    }
   ],
   "source": [
    "# pd.concatin into eval the second model on train\n",
    "\n",
    "rmse, r_2 = m.evaluate_reg(y, plyreg3.predict(x_train_sq))\n",
    "eval_df = pd.concat([eval_df, pd.DataFrame(\n",
    "[\n",
    "    {\n",
    "        'Model': 'quad_reg3',\n",
    "        'rmse': rmse,\n",
    "        'r2': r_2\n",
    "    }\n",
    "])], ignore_index=True, axis=0)\n",
    "eval_df"
   ]
  },
  {
   "cell_type": "code",
   "execution_count": 21,
   "id": "0ede4f71-d82d-4448-8491-a7fa841cf35d",
   "metadata": {
    "tags": []
   },
   "outputs": [
    {
     "data": {
      "text/html": [
       "<div>\n",
       "<style scoped>\n",
       "    .dataframe tbody tr th:only-of-type {\n",
       "        vertical-align: middle;\n",
       "    }\n",
       "\n",
       "    .dataframe tbody tr th {\n",
       "        vertical-align: top;\n",
       "    }\n",
       "\n",
       "    .dataframe thead th {\n",
       "        text-align: right;\n",
       "    }\n",
       "</style>\n",
       "<table border=\"1\" class=\"dataframe\">\n",
       "  <thead>\n",
       "    <tr style=\"text-align: right;\">\n",
       "      <th></th>\n",
       "      <th>Val_Model</th>\n",
       "      <th>val_rmse</th>\n",
       "      <th>val_r2</th>\n",
       "    </tr>\n",
       "  </thead>\n",
       "  <tbody>\n",
       "    <tr>\n",
       "      <th>0</th>\n",
       "      <td>lasso</td>\n",
       "      <td>8.478955e-01</td>\n",
       "      <td>-1.979688e-07</td>\n",
       "    </tr>\n",
       "    <tr>\n",
       "      <th>1</th>\n",
       "      <td>quad_reg2</td>\n",
       "      <td>2.163112e+04</td>\n",
       "      <td>-6.508388e+08</td>\n",
       "    </tr>\n",
       "    <tr>\n",
       "      <th>2</th>\n",
       "      <td>quad_reg3</td>\n",
       "      <td>3.570312e+07</td>\n",
       "      <td>-1.773078e+15</td>\n",
       "    </tr>\n",
       "  </tbody>\n",
       "</table>\n",
       "</div>"
      ],
      "text/plain": [
       "   Val_Model      val_rmse        val_r2\n",
       "0      lasso  8.478955e-01 -1.979688e-07\n",
       "1  quad_reg2  2.163112e+04 -6.508388e+08\n",
       "2  quad_reg3  3.570312e+07 -1.773078e+15"
      ]
     },
     "execution_count": 21,
     "metadata": {},
     "output_type": "execute_result"
    }
   ],
   "source": [
    "# concating on val_dict to add the second model on validate\n",
    "val_rmse, val_r2 = m.evaluate_reg(y_validate, plyreg3.predict(x_val_sq))\n",
    "val_dict = pd.concat([val_dict, pd.DataFrame([({\n",
    "    'Val_Model': 'quad_reg3',\n",
    "    'val_rmse': val_rmse,\n",
    "    'val_r2': val_r2\n",
    "})])], ignore_index=True, axis=0)\n",
    "val_scores.append([val_dict])\n",
    "val_dict"
   ]
  },
  {
   "cell_type": "markdown",
   "id": "7adb87b6-8762-4a1e-ac28-890657ccf2d2",
   "metadata": {
    "tags": []
   },
   "source": [
    "## MODEL: Ordinary Least Squares (OLS) (3)\n",
    "\n",
    "- train\n",
    "- Validate"
   ]
  },
  {
   "cell_type": "code",
   "execution_count": 22,
   "id": "f4625f25-7b2a-4d99-8131-fc17100da63f",
   "metadata": {
    "tags": []
   },
   "outputs": [],
   "source": [
    "# initial ML model\n",
    "lr1 = LinearRegression()\n",
    "\n",
    "# rfe has entered the chat:\n",
    "rfe = RFE(lr1, n_features_to_select=3)\n",
    "\n",
    "# fit\n",
    "rfe.fit(X, y)\n",
    "\n",
    "# transform\n",
    "X_train_rfe = rfe.transform(X)\n",
    "\n",
    "X_val_rfe = rfe.transform(X_validate_scaled)"
   ]
  },
  {
   "cell_type": "code",
   "execution_count": 23,
   "id": "cd2f3909-9bd6-443a-aeaf-cdc844d9fede",
   "metadata": {
    "tags": []
   },
   "outputs": [
    {
     "data": {
      "text/plain": [
       "array(['x1', 'x9', 'x10'], dtype=object)"
      ]
     },
     "execution_count": 23,
     "metadata": {},
     "output_type": "execute_result"
    }
   ],
   "source": [
    "# feature that it selected?\n",
    "rfe.get_feature_names_out()"
   ]
  },
  {
   "cell_type": "code",
   "execution_count": 24,
   "id": "cc13e7ff-3056-4fce-8d4c-72d50a87668b",
   "metadata": {
    "tags": []
   },
   "outputs": [
    {
     "data": {
      "text/html": [
       "<style>#sk-container-id-3 {color: black;}#sk-container-id-3 pre{padding: 0;}#sk-container-id-3 div.sk-toggleable {background-color: white;}#sk-container-id-3 label.sk-toggleable__label {cursor: pointer;display: block;width: 100%;margin-bottom: 0;padding: 0.3em;box-sizing: border-box;text-align: center;}#sk-container-id-3 label.sk-toggleable__label-arrow:before {content: \"▸\";float: left;margin-right: 0.25em;color: #696969;}#sk-container-id-3 label.sk-toggleable__label-arrow:hover:before {color: black;}#sk-container-id-3 div.sk-estimator:hover label.sk-toggleable__label-arrow:before {color: black;}#sk-container-id-3 div.sk-toggleable__content {max-height: 0;max-width: 0;overflow: hidden;text-align: left;background-color: #f0f8ff;}#sk-container-id-3 div.sk-toggleable__content pre {margin: 0.2em;color: black;border-radius: 0.25em;background-color: #f0f8ff;}#sk-container-id-3 input.sk-toggleable__control:checked~div.sk-toggleable__content {max-height: 200px;max-width: 100%;overflow: auto;}#sk-container-id-3 input.sk-toggleable__control:checked~label.sk-toggleable__label-arrow:before {content: \"▾\";}#sk-container-id-3 div.sk-estimator input.sk-toggleable__control:checked~label.sk-toggleable__label {background-color: #d4ebff;}#sk-container-id-3 div.sk-label input.sk-toggleable__control:checked~label.sk-toggleable__label {background-color: #d4ebff;}#sk-container-id-3 input.sk-hidden--visually {border: 0;clip: rect(1px 1px 1px 1px);clip: rect(1px, 1px, 1px, 1px);height: 1px;margin: -1px;overflow: hidden;padding: 0;position: absolute;width: 1px;}#sk-container-id-3 div.sk-estimator {font-family: monospace;background-color: #f0f8ff;border: 1px dotted black;border-radius: 0.25em;box-sizing: border-box;margin-bottom: 0.5em;}#sk-container-id-3 div.sk-estimator:hover {background-color: #d4ebff;}#sk-container-id-3 div.sk-parallel-item::after {content: \"\";width: 100%;border-bottom: 1px solid gray;flex-grow: 1;}#sk-container-id-3 div.sk-label:hover label.sk-toggleable__label {background-color: #d4ebff;}#sk-container-id-3 div.sk-serial::before {content: \"\";position: absolute;border-left: 1px solid gray;box-sizing: border-box;top: 0;bottom: 0;left: 50%;z-index: 0;}#sk-container-id-3 div.sk-serial {display: flex;flex-direction: column;align-items: center;background-color: white;padding-right: 0.2em;padding-left: 0.2em;position: relative;}#sk-container-id-3 div.sk-item {position: relative;z-index: 1;}#sk-container-id-3 div.sk-parallel {display: flex;align-items: stretch;justify-content: center;background-color: white;position: relative;}#sk-container-id-3 div.sk-item::before, #sk-container-id-3 div.sk-parallel-item::before {content: \"\";position: absolute;border-left: 1px solid gray;box-sizing: border-box;top: 0;bottom: 0;left: 50%;z-index: -1;}#sk-container-id-3 div.sk-parallel-item {display: flex;flex-direction: column;z-index: 1;position: relative;background-color: white;}#sk-container-id-3 div.sk-parallel-item:first-child::after {align-self: flex-end;width: 50%;}#sk-container-id-3 div.sk-parallel-item:last-child::after {align-self: flex-start;width: 50%;}#sk-container-id-3 div.sk-parallel-item:only-child::after {width: 0;}#sk-container-id-3 div.sk-dashed-wrapped {border: 1px dashed gray;margin: 0 0.4em 0.5em 0.4em;box-sizing: border-box;padding-bottom: 0.4em;background-color: white;}#sk-container-id-3 div.sk-label label {font-family: monospace;font-weight: bold;display: inline-block;line-height: 1.2em;}#sk-container-id-3 div.sk-label-container {text-align: center;}#sk-container-id-3 div.sk-container {/* jupyter's `normalize.less` sets `[hidden] { display: none; }` but bootstrap.min.css set `[hidden] { display: none !important; }` so we also need the `!important` here to be able to override the default hidden behavior on the sphinx rendered scikit-learn.org. See: https://github.com/scikit-learn/scikit-learn/issues/21755 */display: inline-block !important;position: relative;}#sk-container-id-3 div.sk-text-repr-fallback {display: none;}</style><div id=\"sk-container-id-3\" class=\"sk-top-container\"><div class=\"sk-text-repr-fallback\"><pre>LinearRegression()</pre><b>In a Jupyter environment, please rerun this cell to show the HTML representation or trust the notebook. <br />On GitHub, the HTML representation is unable to render, please try loading this page with nbviewer.org.</b></div><div class=\"sk-container\" hidden><div class=\"sk-item\"><div class=\"sk-estimator sk-toggleable\"><input class=\"sk-toggleable__control sk-hidden--visually\" id=\"sk-estimator-id-3\" type=\"checkbox\" checked><label for=\"sk-estimator-id-3\" class=\"sk-toggleable__label sk-toggleable__label-arrow\">LinearRegression</label><div class=\"sk-toggleable__content\"><pre>LinearRegression()</pre></div></div></div></div></div>"
      ],
      "text/plain": [
       "LinearRegression()"
      ]
     },
     "execution_count": 24,
     "metadata": {},
     "output_type": "execute_result"
    }
   ],
   "source": [
    "# lr1 as an object was created for our RFE process,\n",
    "# lets just use that same object for our first model\n",
    "lr1.fit(X_train_rfe, y)"
   ]
  },
  {
   "cell_type": "code",
   "execution_count": 25,
   "id": "c623ab94-cdb6-462e-b133-9724774e2d12",
   "metadata": {
    "tags": []
   },
   "outputs": [
    {
     "data": {
      "text/html": [
       "<div>\n",
       "<style scoped>\n",
       "    .dataframe tbody tr th:only-of-type {\n",
       "        vertical-align: middle;\n",
       "    }\n",
       "\n",
       "    .dataframe tbody tr th {\n",
       "        vertical-align: top;\n",
       "    }\n",
       "\n",
       "    .dataframe thead th {\n",
       "        text-align: right;\n",
       "    }\n",
       "</style>\n",
       "<table border=\"1\" class=\"dataframe\">\n",
       "  <thead>\n",
       "    <tr style=\"text-align: right;\">\n",
       "      <th></th>\n",
       "      <th>Model</th>\n",
       "      <th>rmse</th>\n",
       "      <th>r2</th>\n",
       "    </tr>\n",
       "  </thead>\n",
       "  <tbody>\n",
       "    <tr>\n",
       "      <th>0</th>\n",
       "      <td>baseline</td>\n",
       "      <td>0.901580</td>\n",
       "      <td>-0.046374</td>\n",
       "    </tr>\n",
       "    <tr>\n",
       "      <th>1</th>\n",
       "      <td>lasso</td>\n",
       "      <td>0.881375</td>\n",
       "      <td>0.000000</td>\n",
       "    </tr>\n",
       "    <tr>\n",
       "      <th>2</th>\n",
       "      <td>quad_reg2</td>\n",
       "      <td>0.695629</td>\n",
       "      <td>0.377078</td>\n",
       "    </tr>\n",
       "    <tr>\n",
       "      <th>3</th>\n",
       "      <td>quad_reg3</td>\n",
       "      <td>0.637043</td>\n",
       "      <td>0.477585</td>\n",
       "    </tr>\n",
       "    <tr>\n",
       "      <th>4</th>\n",
       "      <td>ols_rfe_3</td>\n",
       "      <td>0.747805</td>\n",
       "      <td>0.280128</td>\n",
       "    </tr>\n",
       "  </tbody>\n",
       "</table>\n",
       "</div>"
      ],
      "text/plain": [
       "       Model      rmse        r2\n",
       "0   baseline  0.901580 -0.046374\n",
       "1      lasso  0.881375  0.000000\n",
       "2  quad_reg2  0.695629  0.377078\n",
       "3  quad_reg3  0.637043  0.477585\n",
       "4  ols_rfe_3  0.747805  0.280128"
      ]
     },
     "execution_count": 25,
     "metadata": {},
     "output_type": "execute_result"
    }
   ],
   "source": [
    "# pd.concat is a one-liner so I dont really feel the need to\n",
    "# create a whole new function for this atm even though\n",
    "# we will do it a few times:\n",
    "rmse, r_2 = m.evaluate_reg(y, lr1.predict(X_train_rfe))\n",
    "eval_df = pd.concat([eval_df, pd.DataFrame(\n",
    "[\n",
    "    {\n",
    "        'Model': 'ols_rfe_3',\n",
    "        'rmse': rmse,\n",
    "        'r2': r_2\n",
    "    }\n",
    "])], ignore_index=True, axis=0)\n",
    "eval_df"
   ]
  },
  {
   "cell_type": "code",
   "execution_count": 26,
   "id": "f3c3667f-1e3e-49d0-9c40-878604d7123e",
   "metadata": {
    "tags": []
   },
   "outputs": [
    {
     "data": {
      "text/html": [
       "<div>\n",
       "<style scoped>\n",
       "    .dataframe tbody tr th:only-of-type {\n",
       "        vertical-align: middle;\n",
       "    }\n",
       "\n",
       "    .dataframe tbody tr th {\n",
       "        vertical-align: top;\n",
       "    }\n",
       "\n",
       "    .dataframe thead th {\n",
       "        text-align: right;\n",
       "    }\n",
       "</style>\n",
       "<table border=\"1\" class=\"dataframe\">\n",
       "  <thead>\n",
       "    <tr style=\"text-align: right;\">\n",
       "      <th></th>\n",
       "      <th>Val_Model</th>\n",
       "      <th>val_rmse</th>\n",
       "      <th>val_r2</th>\n",
       "    </tr>\n",
       "  </thead>\n",
       "  <tbody>\n",
       "    <tr>\n",
       "      <th>0</th>\n",
       "      <td>lasso</td>\n",
       "      <td>8.478955e-01</td>\n",
       "      <td>-1.979688e-07</td>\n",
       "    </tr>\n",
       "    <tr>\n",
       "      <th>1</th>\n",
       "      <td>quad_reg2</td>\n",
       "      <td>2.163112e+04</td>\n",
       "      <td>-6.508388e+08</td>\n",
       "    </tr>\n",
       "    <tr>\n",
       "      <th>2</th>\n",
       "      <td>quad_reg3</td>\n",
       "      <td>3.570312e+07</td>\n",
       "      <td>-1.773078e+15</td>\n",
       "    </tr>\n",
       "    <tr>\n",
       "      <th>3</th>\n",
       "      <td>ols_rfe_3</td>\n",
       "      <td>7.342132e-01</td>\n",
       "      <td>2.501752e-01</td>\n",
       "    </tr>\n",
       "  </tbody>\n",
       "</table>\n",
       "</div>"
      ],
      "text/plain": [
       "   Val_Model      val_rmse        val_r2\n",
       "0      lasso  8.478955e-01 -1.979688e-07\n",
       "1  quad_reg2  2.163112e+04 -6.508388e+08\n",
       "2  quad_reg3  3.570312e+07 -1.773078e+15\n",
       "3  ols_rfe_3  7.342132e-01  2.501752e-01"
      ]
     },
     "execution_count": 26,
     "metadata": {},
     "output_type": "execute_result"
    }
   ],
   "source": [
    "# third and final model on val\n",
    "val_rmse, val_r2 = m.evaluate_reg(y_validate, lr1.predict(X_val_rfe))\n",
    "val_dict = pd.concat([val_dict, pd.DataFrame([({\n",
    "    'Val_Model': 'ols_rfe_3',\n",
    "    'val_rmse': val_rmse,\n",
    "    'val_r2': val_r2\n",
    "})])], ignore_index=True, axis=0)\n",
    "val_dict"
   ]
  },
  {
   "cell_type": "markdown",
   "id": "404c5e4a-f410-43ec-a099-7de35091a06a",
   "metadata": {},
   "source": [
    "## Generalized Linear Model (GLM)"
   ]
  },
  {
   "cell_type": "code",
   "execution_count": 27,
   "id": "d98c20f2-442f-466f-b435-51804c1a3d3c",
   "metadata": {},
   "outputs": [
    {
     "data": {
      "text/html": [
       "<style>#sk-container-id-4 {color: black;}#sk-container-id-4 pre{padding: 0;}#sk-container-id-4 div.sk-toggleable {background-color: white;}#sk-container-id-4 label.sk-toggleable__label {cursor: pointer;display: block;width: 100%;margin-bottom: 0;padding: 0.3em;box-sizing: border-box;text-align: center;}#sk-container-id-4 label.sk-toggleable__label-arrow:before {content: \"▸\";float: left;margin-right: 0.25em;color: #696969;}#sk-container-id-4 label.sk-toggleable__label-arrow:hover:before {color: black;}#sk-container-id-4 div.sk-estimator:hover label.sk-toggleable__label-arrow:before {color: black;}#sk-container-id-4 div.sk-toggleable__content {max-height: 0;max-width: 0;overflow: hidden;text-align: left;background-color: #f0f8ff;}#sk-container-id-4 div.sk-toggleable__content pre {margin: 0.2em;color: black;border-radius: 0.25em;background-color: #f0f8ff;}#sk-container-id-4 input.sk-toggleable__control:checked~div.sk-toggleable__content {max-height: 200px;max-width: 100%;overflow: auto;}#sk-container-id-4 input.sk-toggleable__control:checked~label.sk-toggleable__label-arrow:before {content: \"▾\";}#sk-container-id-4 div.sk-estimator input.sk-toggleable__control:checked~label.sk-toggleable__label {background-color: #d4ebff;}#sk-container-id-4 div.sk-label input.sk-toggleable__control:checked~label.sk-toggleable__label {background-color: #d4ebff;}#sk-container-id-4 input.sk-hidden--visually {border: 0;clip: rect(1px 1px 1px 1px);clip: rect(1px, 1px, 1px, 1px);height: 1px;margin: -1px;overflow: hidden;padding: 0;position: absolute;width: 1px;}#sk-container-id-4 div.sk-estimator {font-family: monospace;background-color: #f0f8ff;border: 1px dotted black;border-radius: 0.25em;box-sizing: border-box;margin-bottom: 0.5em;}#sk-container-id-4 div.sk-estimator:hover {background-color: #d4ebff;}#sk-container-id-4 div.sk-parallel-item::after {content: \"\";width: 100%;border-bottom: 1px solid gray;flex-grow: 1;}#sk-container-id-4 div.sk-label:hover label.sk-toggleable__label {background-color: #d4ebff;}#sk-container-id-4 div.sk-serial::before {content: \"\";position: absolute;border-left: 1px solid gray;box-sizing: border-box;top: 0;bottom: 0;left: 50%;z-index: 0;}#sk-container-id-4 div.sk-serial {display: flex;flex-direction: column;align-items: center;background-color: white;padding-right: 0.2em;padding-left: 0.2em;position: relative;}#sk-container-id-4 div.sk-item {position: relative;z-index: 1;}#sk-container-id-4 div.sk-parallel {display: flex;align-items: stretch;justify-content: center;background-color: white;position: relative;}#sk-container-id-4 div.sk-item::before, #sk-container-id-4 div.sk-parallel-item::before {content: \"\";position: absolute;border-left: 1px solid gray;box-sizing: border-box;top: 0;bottom: 0;left: 50%;z-index: -1;}#sk-container-id-4 div.sk-parallel-item {display: flex;flex-direction: column;z-index: 1;position: relative;background-color: white;}#sk-container-id-4 div.sk-parallel-item:first-child::after {align-self: flex-end;width: 50%;}#sk-container-id-4 div.sk-parallel-item:last-child::after {align-self: flex-start;width: 50%;}#sk-container-id-4 div.sk-parallel-item:only-child::after {width: 0;}#sk-container-id-4 div.sk-dashed-wrapped {border: 1px dashed gray;margin: 0 0.4em 0.5em 0.4em;box-sizing: border-box;padding-bottom: 0.4em;background-color: white;}#sk-container-id-4 div.sk-label label {font-family: monospace;font-weight: bold;display: inline-block;line-height: 1.2em;}#sk-container-id-4 div.sk-label-container {text-align: center;}#sk-container-id-4 div.sk-container {/* jupyter's `normalize.less` sets `[hidden] { display: none; }` but bootstrap.min.css set `[hidden] { display: none !important; }` so we also need the `!important` here to be able to override the default hidden behavior on the sphinx rendered scikit-learn.org. See: https://github.com/scikit-learn/scikit-learn/issues/21755 */display: inline-block !important;position: relative;}#sk-container-id-4 div.sk-text-repr-fallback {display: none;}</style><div id=\"sk-container-id-4\" class=\"sk-top-container\"><div class=\"sk-text-repr-fallback\"><pre>TweedieRegressor(power=0.25)</pre><b>In a Jupyter environment, please rerun this cell to show the HTML representation or trust the notebook. <br />On GitHub, the HTML representation is unable to render, please try loading this page with nbviewer.org.</b></div><div class=\"sk-container\" hidden><div class=\"sk-item\"><div class=\"sk-estimator sk-toggleable\"><input class=\"sk-toggleable__control sk-hidden--visually\" id=\"sk-estimator-id-4\" type=\"checkbox\" checked><label for=\"sk-estimator-id-4\" class=\"sk-toggleable__label sk-toggleable__label-arrow\">TweedieRegressor</label><div class=\"sk-toggleable__content\"><pre>TweedieRegressor(power=0.25)</pre></div></div></div></div></div>"
      ],
      "text/plain": [
       "TweedieRegressor(power=0.25)"
      ]
     },
     "execution_count": 27,
     "metadata": {},
     "output_type": "execute_result"
    }
   ],
   "source": [
    "# same process as before!\n",
    "# make the dang thing!\n",
    "gams25 = TweedieRegressor(power=0.25)\n",
    "# fit the dang ol thing\n",
    "gams25.fit(X, y)\n",
    "# use it!"
   ]
  },
  {
   "cell_type": "code",
   "execution_count": 28,
   "id": "1d19cd0a-50f3-4aa3-ad7d-afc2e7625f90",
   "metadata": {
    "tags": []
   },
   "outputs": [
    {
     "data": {
      "text/html": [
       "<div>\n",
       "<style scoped>\n",
       "    .dataframe tbody tr th:only-of-type {\n",
       "        vertical-align: middle;\n",
       "    }\n",
       "\n",
       "    .dataframe tbody tr th {\n",
       "        vertical-align: top;\n",
       "    }\n",
       "\n",
       "    .dataframe thead th {\n",
       "        text-align: right;\n",
       "    }\n",
       "</style>\n",
       "<table border=\"1\" class=\"dataframe\">\n",
       "  <thead>\n",
       "    <tr style=\"text-align: right;\">\n",
       "      <th></th>\n",
       "      <th>Model</th>\n",
       "      <th>rmse</th>\n",
       "      <th>r2</th>\n",
       "    </tr>\n",
       "  </thead>\n",
       "  <tbody>\n",
       "    <tr>\n",
       "      <th>0</th>\n",
       "      <td>baseline</td>\n",
       "      <td>0.901580</td>\n",
       "      <td>-0.046374</td>\n",
       "    </tr>\n",
       "    <tr>\n",
       "      <th>1</th>\n",
       "      <td>lasso</td>\n",
       "      <td>0.881375</td>\n",
       "      <td>0.000000</td>\n",
       "    </tr>\n",
       "    <tr>\n",
       "      <th>2</th>\n",
       "      <td>quad_reg2</td>\n",
       "      <td>0.695629</td>\n",
       "      <td>0.377078</td>\n",
       "    </tr>\n",
       "    <tr>\n",
       "      <th>3</th>\n",
       "      <td>quad_reg3</td>\n",
       "      <td>0.637043</td>\n",
       "      <td>0.477585</td>\n",
       "    </tr>\n",
       "    <tr>\n",
       "      <th>4</th>\n",
       "      <td>ols_rfe_3</td>\n",
       "      <td>0.747805</td>\n",
       "      <td>0.280128</td>\n",
       "    </tr>\n",
       "    <tr>\n",
       "      <th>5</th>\n",
       "      <td>gamma_ols_0.25</td>\n",
       "      <td>0.803950</td>\n",
       "      <td>0.167975</td>\n",
       "    </tr>\n",
       "  </tbody>\n",
       "</table>\n",
       "</div>"
      ],
      "text/plain": [
       "            Model      rmse        r2\n",
       "0        baseline  0.901580 -0.046374\n",
       "1           lasso  0.881375  0.000000\n",
       "2       quad_reg2  0.695629  0.377078\n",
       "3       quad_reg3  0.637043  0.477585\n",
       "4       ols_rfe_3  0.747805  0.280128\n",
       "5  gamma_ols_0.25  0.803950  0.167975"
      ]
     },
     "execution_count": 28,
     "metadata": {},
     "output_type": "execute_result"
    }
   ],
   "source": [
    "# pd.concat is a one-liner so I dont really feel the need to\n",
    "# create a whole new function for this atm even though\n",
    "# we will do it a few times:\n",
    "rmse, r_2 = m.evaluate_reg(y, gams25.predict(X))\n",
    "eval_df = pd.concat([eval_df, pd.DataFrame(\n",
    "[\n",
    "    {\n",
    "        'Model': 'gamma_ols_0.25',\n",
    "        'rmse': rmse,\n",
    "        'r2': r_2\n",
    "    }\n",
    "])], ignore_index=True, axis=0)\n",
    "eval_df"
   ]
  },
  {
   "cell_type": "code",
   "execution_count": 29,
   "id": "dc969d30-153e-483f-b5f8-e62f670e4788",
   "metadata": {
    "tags": []
   },
   "outputs": [
    {
     "data": {
      "text/html": [
       "<div>\n",
       "<style scoped>\n",
       "    .dataframe tbody tr th:only-of-type {\n",
       "        vertical-align: middle;\n",
       "    }\n",
       "\n",
       "    .dataframe tbody tr th {\n",
       "        vertical-align: top;\n",
       "    }\n",
       "\n",
       "    .dataframe thead th {\n",
       "        text-align: right;\n",
       "    }\n",
       "</style>\n",
       "<table border=\"1\" class=\"dataframe\">\n",
       "  <thead>\n",
       "    <tr style=\"text-align: right;\">\n",
       "      <th></th>\n",
       "      <th>Val_Model</th>\n",
       "      <th>val_rmse</th>\n",
       "      <th>val_r2</th>\n",
       "    </tr>\n",
       "  </thead>\n",
       "  <tbody>\n",
       "    <tr>\n",
       "      <th>0</th>\n",
       "      <td>lasso</td>\n",
       "      <td>8.478955e-01</td>\n",
       "      <td>-1.979688e-07</td>\n",
       "    </tr>\n",
       "    <tr>\n",
       "      <th>1</th>\n",
       "      <td>quad_reg2</td>\n",
       "      <td>2.163112e+04</td>\n",
       "      <td>-6.508388e+08</td>\n",
       "    </tr>\n",
       "    <tr>\n",
       "      <th>2</th>\n",
       "      <td>quad_reg3</td>\n",
       "      <td>3.570312e+07</td>\n",
       "      <td>-1.773078e+15</td>\n",
       "    </tr>\n",
       "    <tr>\n",
       "      <th>3</th>\n",
       "      <td>ols_rfe_3</td>\n",
       "      <td>7.342132e-01</td>\n",
       "      <td>2.501752e-01</td>\n",
       "    </tr>\n",
       "    <tr>\n",
       "      <th>4</th>\n",
       "      <td>gamma_ols_0.25</td>\n",
       "      <td>1.070991e+01</td>\n",
       "      <td>-1.585464e+02</td>\n",
       "    </tr>\n",
       "  </tbody>\n",
       "</table>\n",
       "</div>"
      ],
      "text/plain": [
       "        Val_Model      val_rmse        val_r2\n",
       "0           lasso  8.478955e-01 -1.979688e-07\n",
       "1       quad_reg2  2.163112e+04 -6.508388e+08\n",
       "2       quad_reg3  3.570312e+07 -1.773078e+15\n",
       "3       ols_rfe_3  7.342132e-01  2.501752e-01\n",
       "4  gamma_ols_0.25  1.070991e+01 -1.585464e+02"
      ]
     },
     "execution_count": 29,
     "metadata": {},
     "output_type": "execute_result"
    }
   ],
   "source": [
    "# third and final model on val\n",
    "val_rmse, val_r2 = m.evaluate_reg(y_validate, gams25.predict(X_validate))\n",
    "val_dict = pd.concat([val_dict, pd.DataFrame([({\n",
    "    'Val_Model': 'gamma_ols_0.25',\n",
    "    'val_rmse': val_rmse,\n",
    "    'val_r2': val_r2\n",
    "})])], ignore_index=True, axis=0)\n",
    "val_dict"
   ]
  },
  {
   "cell_type": "code",
   "execution_count": 30,
   "id": "5e6172b1-9d97-49f4-9fc1-d79d20423971",
   "metadata": {
    "tags": []
   },
   "outputs": [
    {
     "data": {
      "image/png": "[encoded data removed]",
      "text/plain": [
       "<Figure size 1600x800 with 1 Axes>"
      ]
     },
     "metadata": {},
     "output_type": "display_data"
    }
   ],
   "source": [
    "plt.figure(figsize=(16, 8))\n",
    "plt.scatter(y, lasso.predict(X), label= 'Lasso', alpha=0.25)\n",
    "plt.scatter(y, plyreg3.predict(x_train_sq), label='Quad_reg3', alpha=1)\n",
    "plt.scatter(y, gams25.predict(X), label= 'Gamma_0.25', alpha=0.66)\n",
    "plt.scatter(y, y - lr1.predict(X_train_rfe), label='rfe', alpha=0.65)\n",
    "plt.title('Predicted Quality for Quad, Gamma, and Lasso Models')\n",
    "plt.plot(y,y, ls='-', c='r')\n",
    "plt.ylabel('Predicted Quality')\n",
    "plt.xlabel('Quality')\n",
    "plt.legend(title='Model')\n",
    "# Set the axis limits\n",
    "plt.xlim(left=2, right=10) \n",
    "plt.ylim(bottom=-4, top=11)\n",
    "\n",
    "plt.show()"
   ]
  },
  {
   "cell_type": "code",
   "execution_count": 31,
   "id": "bc31c711-0098-4300-a58c-254aa292485c",
   "metadata": {
    "tags": []
   },
   "outputs": [
    {
     "data": {
      "image/png": "[encoded data removed]",
      "text/plain": [
       "<Figure size 1600x800 with 1 Axes>"
      ]
     },
     "metadata": {},
     "output_type": "display_data"
    }
   ],
   "source": [
    "# plotting the residuals of the model as compared to the actual\n",
    "plt.figure(figsize=(16, 8))\n",
    "plt.scatter(y, y - lasso.predict(X), label='Lasso', alpha=0.5)\n",
    "plt.scatter(y, y - lr1.predict(X_train_rfe), label='rfe', alpha=0.65)\n",
    "\n",
    "plt.scatter(y, y - plyreg3.predict(x_train_sq), label='Quad_reg', alpha=0.25)\n",
    "plt.title('Residuals vs Actuals for all Models')\n",
    "plt.axhline(0, ls='-.', c='k', alpha=0.5)\n",
    "plt.xlabel('Quality')\n",
    "plt.ylabel('Residuals in quality')\n",
    "plt.legend()\n",
    "# Set the axis limits\n",
    "plt.xlim(left=2, right=10) \n",
    "plt.ylim(bottom=-6, top=8)\n",
    "plt.show()"
   ]
  },
  {
   "cell_type": "code",
   "execution_count": 32,
   "id": "d6930d66-fb9d-42ef-9a93-33ceb495559e",
   "metadata": {},
   "outputs": [
    {
     "name": "stdout",
     "output_type": "stream",
     "text": [
      "With the Polynomial Regression model: rmse on test sample was 32200152.84, and the r^3 was -1382396655440897.0\n"
     ]
    }
   ],
   "source": [
    "# assigning variables to the model rmse and r^3\n",
    "rmse_test, r_2_test = m.evaluate_reg(y_test, plyreg3.predict(x_test_sq))\n",
    "print(f'With the Polynomial Regression model: rmse on test sample was {round(rmse_test,2)}, and the r^3 was {round(r_2_test,6)}')\n"
   ]
  },
  {
   "cell_type": "code",
   "execution_count": null,
   "id": "13950a88-15d4-4fc1-974e-020cfc1314c3",
   "metadata": {},
   "outputs": [],
   "source": []
  },
  {
   "cell_type": "code",
   "execution_count": null,
   "id": "2517c214-cef7-4875-9334-f7ea61339d46",
   "metadata": {},
   "outputs": [],
   "source": []
  }
 ],
 "metadata": {
  "kernelspec": {
   "display_name": "Python 3 (ipykernel)",
   "language": "python",
   "name": "python3"
  },
  "language_info": {
   "codemirror_mode": {
    "name": "ipython",
    "version": 3
   },
   "file_extension": ".py",
   "mimetype": "text/x-python",
   "name": "python",
   "nbconvert_exporter": "python",
   "pygments_lexer": "ipython3",
   "version": "3.11.4"
  }
 },
 "nbformat": 4,
 "nbformat_minor": 5
}
