{
 "cells": [
  {
   "cell_type": "code",
   "execution_count": 1,
   "id": "00fd6ad2-524d-410b-a388-c78a134cf86b",
   "metadata": {},
   "outputs": [],
   "source": [
    "#tabular data imports :\n",
    "import pandas as pd\n",
    "import numpy as np\n",
    "from pydataset import data\n",
    "\n",
    "# visualization imports:\n",
    "import matplotlib.pyplot as plt\n",
    "import seaborn as sns\n",
    "from sklearn.model_selection import train_test_split\n",
    "\n",
    "# success metrics from earlier in the week: mean squared error and r^2 explained variance\n",
    "from sklearn.preprocessing import MinMaxScaler, PolynomialFeatures\n",
    "\n",
    "#stats\n",
    "from scipy.stats import pearsonr, spearmanr\n",
    "from scipy.stats import shapiro\n",
    "\n",
    "import warnings\n",
    "warnings.filterwarnings(\"ignore\")\n",
    "import wrangle as w\n",
    "import os\n",
    "directory = os.getcwd()\n",
    "pd.set_option('display.max_columns', None)"
   ]
  },
  {
   "cell_type": "code",
   "execution_count": null,
   "id": "893773b4-5596-4d1f-9121-c4d276e2a575",
   "metadata": {},
   "outputs": [],
   "source": []
  }
 ],
 "metadata": {
  "kernelspec": {
   "display_name": "Python 3 (ipykernel)",
   "language": "python",
   "name": "python3"
  },
  "language_info": {
   "codemirror_mode": {
    "name": "ipython",
    "version": 3
   },
   "file_extension": ".py",
   "mimetype": "text/x-python",
   "name": "python",
   "nbconvert_exporter": "python",
   "pygments_lexer": "ipython3",
   "version": "3.11.4"
  }
 },
 "nbformat": 4,
 "nbformat_minor": 5
}
